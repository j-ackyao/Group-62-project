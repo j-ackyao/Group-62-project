{
 "cells": [
  {
   "cell_type": "markdown",
   "id": "a36c1316-c5fd-4e23-bcb9-e9753dfa9ee4",
   "metadata": {},
   "source": [
    "# Relationship between Features of Wine and Quality Rating"
   ]
  },
  {
   "cell_type": "markdown",
   "id": "7a83d0dc-c583-43f3-96f0-c083868a5f4b",
   "metadata": {},
   "source": [
    "### Introduction\n",
    "\n",
    "Red wine has specific attributes (acidity, sugar, alcohol, etc.) that determine its taste and perceived quality. The quality of red wine is often evaluated by professional sommeliers, a time-consuming and subjective assessment process. Attributes of red wine and its quality rating have been determined and collected into a data set that is donated to the UCI machine learning repository. This project will take that data and attempt to answer the question, *is there a correlation between the attributes (predictors) and quality (class) of red wine?*\n",
    "\n",
    "For relevant documentation and details of data set, reference [documentation](https://doi.org/10.1016/j.dss.2009.05.016).\n",
    "\n",
    "The following are the potential predictor variables including their units:\n",
    "\n",
    "|Variable|Units|\n",
    "|--|--|\n",
    "|Fixed acidity|g<sub>(tartaric acid)</sub>/dm<sup>3</sup>|\n",
    "|Volatile acidity|g<sub>(acetic acid)</sub>/dm<sup>3</sup>|\n",
    "|Citric acid|g/dm<sup>3</sup>|\n",
    "|Residual sugar|g/dm<sup>3</sup>|\n",
    "|Chlorides|g<sub>(sodium chloride)</sub>/dm<sup>3</sup>|\n",
    "|Free sulfur dioxide|mg/dm<sup>3</sup>\n",
    "|Total sulfur dioxide|mg/dm<sup>3</sup>|\n",
    "|Density|g/cm<sup>3</sup>\n",
    "|pH|0-14 pH scale|\n",
    "|Sulphates|g<sub>(potassium sulphate)</sub>/dm<sup>3</sup>|\n",
    "|Alcohol|vol. %|\n",
    "|Quality|0-10 scale|"
   ]
  },
  {
   "cell_type": "markdown",
   "id": "5d656a64-16fa-4259-b38d-e9e6ed20fa43",
   "metadata": {},
   "source": [
    "### Methods and Results - Jack can edit this"
   ]
  },
  {
   "cell_type": "markdown",
   "id": "cf87fa03-5872-4fdf-9e01-75ab5149a21f",
   "metadata": {},
   "source": [
    "### Discussion - come back to this"
   ]
  },
  {
   "cell_type": "markdown",
   "id": "f696f5fb-0bd2-472e-adc2-e5284a782db3",
   "metadata": {},
   "source": [
    "### References: \n",
    "1. https://www.sciencedirect.com/science/article/abs/pii/S0167923609001377\n",
    "\n",
    "2. insert link\n",
    "\n",
    "3. https://archive.ics.uci.edu/ml/machine-learning-databases/wine-quality/winequality-red.csv"
   ]
  }
 ],
 "metadata": {
  "kernelspec": {
   "display_name": "R",
   "language": "R",
   "name": "ir"
  },
  "language_info": {
   "codemirror_mode": "r",
   "file_extension": ".r",
   "mimetype": "text/x-r-source",
   "name": "R",
   "pygments_lexer": "r",
   "version": "4.1.3"
  }
 },
 "nbformat": 4,
 "nbformat_minor": 5
}
