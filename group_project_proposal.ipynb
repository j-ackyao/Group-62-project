{
 "cells": [
  {
   "cell_type": "markdown",
   "id": "b0d90ec6-8525-402c-937a-30ab08b6cd6b",
   "metadata": {},
   "source": [
    "Title: \n",
    "\n",
    "\n",
    "Introduction:\n",
    "* Provide some relevant background information on the topic so that someone unfamiliar with it will be prepared to understand the rest of your proposal\n",
    "* Clearly state the question you will try to answer with your project\n",
    "* Identify and describe the dataset that will be used to answer the question\n",
    "\n",
    "\n",
    "Preliminary exploratory data analysis:\n",
    "* Demonstrate that the dataset can be read from the web into R \n",
    "* Clean and wrangle your data into a tidy format\n",
    "* Using only training data, summarize the data in at least one table (this is exploratory data analysis). An example of a useful table could be one that reports the number of observations in each class, the means of the predictor variables you plan to use in your analysis and how many rows have missing data. \n",
    "* Using only training data, visualize the data with at least one plot relevant to the analysis you plan to do (this is exploratory data analysis). An example of a useful visualization could be one that compares the distributions of each of the predictor variables you plan to use in your analysis.\n",
    "\n",
    "\n",
    "Methods:\n",
    "* Explain how you will conduct either your data analysis and which variables/columns you will use. Note - you do not need to use all variables/columns that exist in the raw data set. In fact, that's often not a good idea. For each variable think: is this a useful variable for prediction?\n",
    "* Describe at least one way that you will visualize the results\n",
    "\n",
    "\n",
    "Expected outcomes and significance:\n",
    "* What do you expect to find?\n",
    "* What impact could such findings have?\n",
    "* What future questions could this lead to?"
   ]
  },
  {
   "cell_type": "markdown",
   "id": "230a9a18-02ed-48f1-abed-80f25e213fb4",
   "metadata": {},
   "source": [
    "<h1>Relationship between Features of Wine and Quality Rating</h1>"
   ]
  },
  {
   "cell_type": "markdown",
   "id": "6bfd9bb3-9ed8-40ff-8ca4-a0be29a047d8",
   "metadata": {},
   "source": [
    "<h3>Introduction</h3>"
   ]
  },
  {
   "cell_type": "markdown",
   "id": "f6d28174-ab36-455c-9521-14266e87dbe2",
   "metadata": {},
   "source": [
    "<h3>Preliminary exploratory data analysis</h3>\n",
    "\n",
    "For relevant documentation and details of dataset, reference [documentation](https://doi.org/10.1016/j.dss.2009.05.016)\n",
    "\n",
    "<h4>Units of data</h4>\n",
    "\n",
    "|Variable|Units|\n",
    "|--|--|\n",
    "|Fixed acidity|g<sub>(tartaric acid)</sub>/dm<sup>3</sup>|\n",
    "|Volatile acidity|g<sub>(acetic acid)</sub>/dm<sup>3</sup>|\n",
    "|Citric acid|g/dm<sup>3</sup>|\n",
    "|Residual sugar|g/dm<sup>3</sup>|\n",
    "|Chlorides|g<sub>(sodium chloride)</sub>/dm<sup>3</sup>|\n",
    "|Free sulfur dioxide|mg/dm<sup>3</sup>\n",
    "|Total sulfur dioxide|mg/dm<sup>3</sup>|\n",
    "|Density|g/cm<sup>3</sup>\n",
    "|pH|0-14 pH scale|\n",
    "|Sulphates|g<sub>(potassium sulphate)</sub>/dm<sup>3</sup>|\n",
    "|Alcohol|vol. %|\n",
    "|Quality|0-10 scale|\n",
    "\n",
    "\n",
    "The code block below will include:\n",
    "- Reading dataset from web link\n",
    "- Cleaning and wrangling data into a tidy format\n",
    "- Splitting into training data and test data\n",
    "- Statistics of training subset\n",
    "- Visualizing training data comparing distributions of predictor variables"
   ]
  },
  {
   "cell_type": "code",
   "execution_count": 6,
   "id": "409b0942-78d7-45c8-8516-af83d930b20c",
   "metadata": {},
   "outputs": [
    {
     "name": "stderr",
     "output_type": "stream",
     "text": [
      "\u001b[1mRows: \u001b[22m\u001b[34m1599\u001b[39m \u001b[1mColumns: \u001b[22m\u001b[34m12\u001b[39m\n",
      "\u001b[36m──\u001b[39m \u001b[1mColumn specification\u001b[22m \u001b[36m────────────────────────────────────────────────────────\u001b[39m\n",
      "\u001b[1mDelimiter:\u001b[22m \";\"\n",
      "\u001b[32mdbl\u001b[39m (12): fixed acidity, volatile acidity, citric acid, residual sugar, chlo...\n",
      "\n",
      "\u001b[36mℹ\u001b[39m Use `spec()` to retrieve the full column specification for this data.\n",
      "\u001b[36mℹ\u001b[39m Specify the column types or set `show_col_types = FALSE` to quiet this message.\n"
     ]
    },
    {
     "data": {
      "text/html": [
       "<table class=\"dataframe\">\n",
       "<caption>A tibble: 6 × 12</caption>\n",
       "<thead>\n",
       "\t<tr><th scope=col>fixed_acidity</th><th scope=col>volatile_acidity</th><th scope=col>citric_acid</th><th scope=col>residual_sugar</th><th scope=col>chlorides</th><th scope=col>free_so2</th><th scope=col>total_so2</th><th scope=col>density</th><th scope=col>pH</th><th scope=col>sulphates</th><th scope=col>alcohol</th><th scope=col>quality</th></tr>\n",
       "\t<tr><th scope=col>&lt;dbl&gt;</th><th scope=col>&lt;dbl&gt;</th><th scope=col>&lt;dbl&gt;</th><th scope=col>&lt;dbl&gt;</th><th scope=col>&lt;dbl&gt;</th><th scope=col>&lt;dbl&gt;</th><th scope=col>&lt;dbl&gt;</th><th scope=col>&lt;dbl&gt;</th><th scope=col>&lt;dbl&gt;</th><th scope=col>&lt;dbl&gt;</th><th scope=col>&lt;dbl&gt;</th><th scope=col>&lt;fct&gt;</th></tr>\n",
       "</thead>\n",
       "<tbody>\n",
       "\t<tr><td> 7.4</td><td>0.70</td><td>0.00</td><td>1.9</td><td>0.076</td><td>11</td><td>34</td><td>0.9978</td><td>3.51</td><td>0.56</td><td>9.4</td><td>5</td></tr>\n",
       "\t<tr><td> 7.8</td><td>0.88</td><td>0.00</td><td>2.6</td><td>0.098</td><td>25</td><td>67</td><td>0.9968</td><td>3.20</td><td>0.68</td><td>9.8</td><td>5</td></tr>\n",
       "\t<tr><td> 7.8</td><td>0.76</td><td>0.04</td><td>2.3</td><td>0.092</td><td>15</td><td>54</td><td>0.9970</td><td>3.26</td><td>0.65</td><td>9.8</td><td>5</td></tr>\n",
       "\t<tr><td>11.2</td><td>0.28</td><td>0.56</td><td>1.9</td><td>0.075</td><td>17</td><td>60</td><td>0.9980</td><td>3.16</td><td>0.58</td><td>9.8</td><td>6</td></tr>\n",
       "\t<tr><td> 7.4</td><td>0.70</td><td>0.00</td><td>1.9</td><td>0.076</td><td>11</td><td>34</td><td>0.9978</td><td>3.51</td><td>0.56</td><td>9.4</td><td>5</td></tr>\n",
       "\t<tr><td> 7.4</td><td>0.66</td><td>0.00</td><td>1.8</td><td>0.075</td><td>13</td><td>40</td><td>0.9978</td><td>3.51</td><td>0.56</td><td>9.4</td><td>5</td></tr>\n",
       "</tbody>\n",
       "</table>\n"
      ],
      "text/latex": [
       "A tibble: 6 × 12\n",
       "\\begin{tabular}{llllllllllll}\n",
       " fixed\\_acidity & volatile\\_acidity & citric\\_acid & residual\\_sugar & chlorides & free\\_so2 & total\\_so2 & density & pH & sulphates & alcohol & quality\\\\\n",
       " <dbl> & <dbl> & <dbl> & <dbl> & <dbl> & <dbl> & <dbl> & <dbl> & <dbl> & <dbl> & <dbl> & <fct>\\\\\n",
       "\\hline\n",
       "\t  7.4 & 0.70 & 0.00 & 1.9 & 0.076 & 11 & 34 & 0.9978 & 3.51 & 0.56 & 9.4 & 5\\\\\n",
       "\t  7.8 & 0.88 & 0.00 & 2.6 & 0.098 & 25 & 67 & 0.9968 & 3.20 & 0.68 & 9.8 & 5\\\\\n",
       "\t  7.8 & 0.76 & 0.04 & 2.3 & 0.092 & 15 & 54 & 0.9970 & 3.26 & 0.65 & 9.8 & 5\\\\\n",
       "\t 11.2 & 0.28 & 0.56 & 1.9 & 0.075 & 17 & 60 & 0.9980 & 3.16 & 0.58 & 9.8 & 6\\\\\n",
       "\t  7.4 & 0.70 & 0.00 & 1.9 & 0.076 & 11 & 34 & 0.9978 & 3.51 & 0.56 & 9.4 & 5\\\\\n",
       "\t  7.4 & 0.66 & 0.00 & 1.8 & 0.075 & 13 & 40 & 0.9978 & 3.51 & 0.56 & 9.4 & 5\\\\\n",
       "\\end{tabular}\n"
      ],
      "text/markdown": [
       "\n",
       "A tibble: 6 × 12\n",
       "\n",
       "| fixed_acidity &lt;dbl&gt; | volatile_acidity &lt;dbl&gt; | citric_acid &lt;dbl&gt; | residual_sugar &lt;dbl&gt; | chlorides &lt;dbl&gt; | free_so2 &lt;dbl&gt; | total_so2 &lt;dbl&gt; | density &lt;dbl&gt; | pH &lt;dbl&gt; | sulphates &lt;dbl&gt; | alcohol &lt;dbl&gt; | quality &lt;fct&gt; |\n",
       "|---|---|---|---|---|---|---|---|---|---|---|---|\n",
       "|  7.4 | 0.70 | 0.00 | 1.9 | 0.076 | 11 | 34 | 0.9978 | 3.51 | 0.56 | 9.4 | 5 |\n",
       "|  7.8 | 0.88 | 0.00 | 2.6 | 0.098 | 25 | 67 | 0.9968 | 3.20 | 0.68 | 9.8 | 5 |\n",
       "|  7.8 | 0.76 | 0.04 | 2.3 | 0.092 | 15 | 54 | 0.9970 | 3.26 | 0.65 | 9.8 | 5 |\n",
       "| 11.2 | 0.28 | 0.56 | 1.9 | 0.075 | 17 | 60 | 0.9980 | 3.16 | 0.58 | 9.8 | 6 |\n",
       "|  7.4 | 0.70 | 0.00 | 1.9 | 0.076 | 11 | 34 | 0.9978 | 3.51 | 0.56 | 9.4 | 5 |\n",
       "|  7.4 | 0.66 | 0.00 | 1.8 | 0.075 | 13 | 40 | 0.9978 | 3.51 | 0.56 | 9.4 | 5 |\n",
       "\n"
      ],
      "text/plain": [
       "  fixed_acidity volatile_acidity citric_acid residual_sugar chlorides free_so2\n",
       "1  7.4          0.70             0.00        1.9            0.076     11      \n",
       "2  7.8          0.88             0.00        2.6            0.098     25      \n",
       "3  7.8          0.76             0.04        2.3            0.092     15      \n",
       "4 11.2          0.28             0.56        1.9            0.075     17      \n",
       "5  7.4          0.70             0.00        1.9            0.076     11      \n",
       "6  7.4          0.66             0.00        1.8            0.075     13      \n",
       "  total_so2 density pH   sulphates alcohol quality\n",
       "1 34        0.9978  3.51 0.56      9.4     5      \n",
       "2 67        0.9968  3.20 0.68      9.8     5      \n",
       "3 54        0.9970  3.26 0.65      9.8     5      \n",
       "4 60        0.9980  3.16 0.58      9.8     6      \n",
       "5 34        0.9978  3.51 0.56      9.4     5      \n",
       "6 40        0.9978  3.51 0.56      9.4     5      "
      ]
     },
     "metadata": {},
     "output_type": "display_data"
    },
    {
     "data": {
      "text/html": [
       "<span style=white-space:pre-wrap>'Number of null values:  0'</span>"
      ],
      "text/latex": [
       "'Number of null values:  0'"
      ],
      "text/markdown": [
       "<span style=white-space:pre-wrap>'Number of null values:  0'</span>"
      ],
      "text/plain": [
       "[1] \"Number of null values:  0\""
      ]
     },
     "metadata": {},
     "output_type": "display_data"
    },
    {
     "data": {
      "text/html": [
       "<span style=white-space:pre-wrap>'Number of N/A values:  0'</span>"
      ],
      "text/latex": [
       "'Number of N/A values:  0'"
      ],
      "text/markdown": [
       "<span style=white-space:pre-wrap>'Number of N/A values:  0'</span>"
      ],
      "text/plain": [
       "[1] \"Number of N/A values:  0\""
      ]
     },
     "metadata": {},
     "output_type": "display_data"
    },
    {
     "data": {
      "text/plain": [
       " fixed_acidity    volatile_acidity  citric_acid     residual_sugar  \n",
       " Min.   : 4.600   Min.   :0.1200   Min.   :0.0000   Min.   : 0.900  \n",
       " 1st Qu.: 7.100   1st Qu.:0.3900   1st Qu.:0.0925   1st Qu.: 1.900  \n",
       " Median : 7.900   Median :0.5200   Median :0.2600   Median : 2.200  \n",
       " Mean   : 8.348   Mean   :0.5268   Mean   :0.2728   Mean   : 2.539  \n",
       " 3rd Qu.: 9.300   3rd Qu.:0.6400   3rd Qu.:0.4375   3rd Qu.: 2.600  \n",
       " Max.   :15.900   Max.   :1.5800   Max.   :1.0000   Max.   :15.500  \n",
       "   chlorides          free_so2       total_so2         density      \n",
       " Min.   :0.01200   Min.   : 1.00   Min.   :  6.00   Min.   :0.9901  \n",
       " 1st Qu.:0.07000   1st Qu.: 7.00   1st Qu.: 22.00   1st Qu.:0.9956  \n",
       " Median :0.07900   Median :14.00   Median : 38.00   Median :0.9968  \n",
       " Mean   :0.08801   Mean   :15.91   Mean   : 46.33   Mean   :0.9968  \n",
       " 3rd Qu.:0.09100   3rd Qu.:22.00   3rd Qu.: 61.00   3rd Qu.:0.9979  \n",
       " Max.   :0.61100   Max.   :72.00   Max.   :289.00   Max.   :1.0031  \n",
       "       pH          sulphates         alcohol      quality\n",
       " Min.   :2.740   Min.   :0.3700   Min.   : 8.40   3: 10  \n",
       " 1st Qu.:3.210   1st Qu.:0.5500   1st Qu.: 9.50   4: 39  \n",
       " Median :3.310   Median :0.6200   Median :10.20   5:509  \n",
       " Mean   :3.309   Mean   :0.6592   Mean   :10.43   6:478  \n",
       " 3rd Qu.:3.400   3rd Qu.:0.7300   3rd Qu.:11.10   7:149  \n",
       " Max.   :3.900   Max.   :2.0000   Max.   :14.90   8: 13  "
      ]
     },
     "metadata": {},
     "output_type": "display_data"
    },
    {
     "data": {
      "image/png": "[encoded data removed]",
      "text/plain": [
       "plot without title"
      ]
     },
     "metadata": {
      "image/png": {
       "height": 420,
       "width": 420
      }
     },
     "output_type": "display_data"
    }
   ],
   "source": [
    "library(tidyverse)\n",
    "library(tidymodels)\n",
    "\n",
    "#read data frame from UCI machine learning database\n",
    "red_wine_link <- \"https://archive.ics.uci.edu/ml/machine-learning-databases/wine-quality/winequality-red.csv\"\n",
    "red_wine_data <- read_delim(red_wine_link, \";\")\n",
    "\n",
    "#rename column names for easier reference\n",
    "colnames(red_wine_data) <- c(\"fixed_acidity\", \"volatile_acidity\", \"citric_acid\", \n",
    "                             \"residual_sugar\", \"chlorides\", \"free_so2\", \"total_so2\",\n",
    "                             \"density\", \"pH\", \"sulphates\", \"alcohol\", \"quality\")\n",
    "\n",
    "#convert quality to factor type\n",
    "red_wine_data <- mutate(red_wine_data, quality = as_factor(quality))\n",
    "\n",
    "head(red_wine_data)\n",
    "\n",
    "#set seed for consistency\n",
    "set.seed(8888)\n",
    "\n",
    "#splitting data set into training and testing subsets\n",
    "SPLIT_PROPORTION = 0.75\n",
    "red_split_data <- initial_split(red_wine_data, prop = SPLIT_PROPORTION, strata = quality)\n",
    "red_training_data <- training(red_split_data)\n",
    "red_testing_data <- testing(red_split_data)\n",
    "\n",
    "#check for null/na data\n",
    "paste(\"Number of null values: \", sum(is.null(red_training_data)))\n",
    "paste(\"Number of N/A values: \", sum(is.na(red_training_data)))\n",
    "\n",
    "summary(red_training_data)\n",
    "\n",
    "#plotting the distribution of red wine quality\n",
    "\n",
    "red_quality_histogram <- ggplot(red_wine_data, aes(x = as.double(quality))) +\n",
    "    geom_histogram(binwidth = 1) +\n",
    "    labs(x = \"Quality of Red Wine\", y = \"Number of Wine\") + \n",
    "    title(\"test\") +\n",
    "    \n",
    "\n",
    "red_quality_histogram"
   ]
  },
  {
   "cell_type": "markdown",
   "id": "4c31de26-a0a7-4b3c-a247-2162ade2e424",
   "metadata": {},
   "source": [
    "Methods: "
   ]
  },
  {
   "cell_type": "markdown",
   "id": "ce44c9a6-3daf-439b-9124-01db5e507799",
   "metadata": {},
   "source": [
    "Expected outcomes and significance:\n",
    "\n",
    "We expect to find that a moderate balance of alcohol features (residual sugar, pH, density, etc.,) will lead to the highest quality rating of alcohol. Alcohol with extremely strong or weak features will subsequently lead to a lower quality rating.\n",
    "\n",
    "By determining what chemical features lead to a higher quality rating of alcohol, wine makers will be able to concoct a specific type of alcohol that will be well-received by an audience. Furthermore, with this formula, wine makers will be able to create a type of alcohol that they can assume will be successful without have to physically taste the wine.\n",
    "\n",
    "This can also raise further questions of whether the features of wine that are correlated to a higher quality rating can be applied to other types of alcohol (eg. beer, tequila, vodka). In other words, are the specific levels of wine features (residual sugar, pH, density, etc.,) that are correlated with a higher quality rating the same feature levels for all types of alcohol? Is this a trend we can apply to all types of alcohol?"
   ]
  }
 ],
 "metadata": {
  "kernelspec": {
   "display_name": "R",
   "language": "R",
   "name": "ir"
  },
  "language_info": {
   "codemirror_mode": "r",
   "file_extension": ".r",
   "mimetype": "text/x-r-source",
   "name": "R",
   "pygments_lexer": "r",
   "version": "4.1.3"
  }
 },
 "nbformat": 4,
 "nbformat_minor": 5
}
